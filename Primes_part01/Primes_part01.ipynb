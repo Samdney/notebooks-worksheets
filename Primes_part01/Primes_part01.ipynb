{
 "cells": [
  {
   "cell_type": "markdown",
   "metadata": {},
   "source": [
    "This documents shows how the results of the first intersections looks like."
   ]
  },
  {
   "cell_type": "code",
   "execution_count": 1,
   "metadata": {
    "collapsed": true
   },
   "outputs": [],
   "source": [
    "from sage.repl.ipython_kernel.install import SageKernelSpec\n",
    "#SageKernelSpec.identifier()"
   ]
  },
  {
   "cell_type": "code",
   "execution_count": 2,
   "metadata": {},
   "outputs": [
    {
     "data": {
      "text/plain": [
       "(x1, x2, z12, D1, D2) |--> D1*x1*(2*x2 + 1) - D2*(2*x1 + 1)*x2 + (2*x1 + 1)*(2*x2 + 1)*z12 - 2*D1*(x1 - x2)"
      ]
     },
     "execution_count": 2,
     "metadata": {},
     "output_type": "execute_result"
    }
   ],
   "source": [
    "# var('x1','x2','z12','D1','D2')\n",
    "n_not_12(x1,x2,z12,D1,D2) = (2*x1 + 1)*(2*x2 + 1)*z12 + (-D2*(2*x1 + 1)*x2 + D1*(2*x2 + 1)*x1) - 2*(x1 - x2)*D1\n",
    "n_not_12"
   ]
  },
  {
   "cell_type": "code",
   "execution_count": 3,
   "metadata": {},
   "outputs": [
    {
     "data": {
      "text/plain": [
       "1/2*(2*x1 + 1)*(2*x2 + 1) - 1/2"
      ]
     },
     "execution_count": 3,
     "metadata": {},
     "output_type": "execute_result"
    }
   ],
   "source": [
    "x12 = ((2*x1 + 1)*(2*x2 + 1) - 1)*(1/2)\n",
    "x12"
   ]
  },
  {
   "cell_type": "code",
   "execution_count": 4,
   "metadata": {},
   "outputs": [
    {
     "data": {
      "text/plain": [
       "(x1, x2, z12, D1, D2) |--> -D1*x1*(2*x2 + 1) + D2*(2*x1 + 1)*x2 + 2*D1*(x1 - x2)"
      ]
     },
     "execution_count": 4,
     "metadata": {},
     "output_type": "execute_result"
    }
   ],
   "source": [
    "D12 = (n_not_12 - (2*x1 + 1)*(2*x2 + 1)*z12)*(-1)\n",
    "D12"
   ]
  },
  {
   "cell_type": "code",
   "execution_count": 5,
   "metadata": {},
   "outputs": [
    {
     "data": {
      "text/plain": [
       "-D3*(2*x1 + 1)*(2*x2 + 1)*x3 + (2*x1 + 1)*(2*x2 + 1)*(2*x3 + 1)*z123 - 1/2*(D1*x1*(2*x2 + 1) - D2*(2*x1 + 1)*x2 - 2*D1*(x1 - x2))*((2*x1 + 1)*(2*x2 + 1) - 1)*(2*x3 + 1) + (D1*x1*(2*x2 + 1) - D2*(2*x1 + 1)*x2 - 2*D1*(x1 - x2))*((2*x1 + 1)*(2*x2 + 1) - 2*x3 - 1)"
      ]
     },
     "execution_count": 5,
     "metadata": {},
     "output_type": "execute_result"
    }
   ],
   "source": [
    "var('x3','z123','D3')\n",
    "n_not_123 = n_not_12(x12,x3,z123,D12,D3)\n",
    "n_not_123"
   ]
  },
  {
   "cell_type": "code",
   "execution_count": 6,
   "metadata": {},
   "outputs": [
    {
     "name": "stdout",
     "output_type": "stream",
     "text": [
      "-D_3*(2*x_1 + 1)*(2*x_2 + 1)*x_3 + (2*x_1 + 1)*(2*x_2 + 1)*(2*x_3 + 1)*z_2 - 1/2*(D_1*x_1*(2*x_2 + 1) - D_2*(2*x_1 + 1)*x_2 - 2*D_1*(x_1 - x_2))*((2*x_1 + 1)*(2*x_2 + 1) - 1)*(2*x_3 + 1) + (D_1*x_1*(2*x_2 + 1) - D_2*(2*x_1 + 1)*x_2 - 2*D_1*(x_1 - x_2))*((2*x_1 + 1)*(2*x_2 + 1) - 2*x_3 - 1)\n"
     ]
    }
   ],
   "source": [
    "# Notation: Be z_12 = z2\n",
    "var('x_1','x_2','z_2','D_1','D_2')\n",
    "n_not_12(x_1,x_2,z_12,D_1,D_2) = (2*x_1 + 1)*(2*x_2 + 1)*z_2 + (-D_2*(2*x_1 + 1)*x_2 + D_1*(2*x_2 + 1)*x_1) - 2*(x_1 - x_2)*D_1\n",
    "\n",
    "@cached_function\n",
    "def n_not(n,f,x1,x2,z,D1,D2):\n",
    "    if n == 2:\n",
    "        print(f)\n",
    "    else:\n",
    "        n_not_12 = f        \n",
    "        \n",
    "        x_1new = ((2*x1 + 1)*(2*x2 + 1) - 1)*(1/2)        \n",
    "        D_1new = (f - (2*x1 + 1)*(2*x2 + 1)*z)*(-1)\n",
    "        \n",
    "        #print(x_1new)\n",
    "        \n",
    "        x_new = var('x_%d' % n)\n",
    "        z_new = var('z_%d' % n)\n",
    "        D_new = var('D_%d' % n)\n",
    "        \n",
    "        x_2new = x_new\n",
    "        z_new = z_new        \n",
    "        D_2new = D_new\n",
    "        \n",
    "        n_not(n-1,n_not_12(x_1new,x_2new,z_new,D_1new,D_2new),x_1new,x_2new,z_new,D_1new,D_2new)\n",
    "        \n",
    "result = n_not(3,n_not_12,x_1,x_2,z_2,D_1,D_2)"
   ]
  },
  {
   "cell_type": "code",
   "execution_count": 7,
   "metadata": {},
   "outputs": [
    {
     "data": {
      "text/plain": [
       "D_1*x_1*(2*x_2 + 1) - D_2*(2*x_1 + 1)*x_2 + (2*x_1 + 1)*(2*x_2 + 1)*z_2 - 2*D_1*(x_1 - x_2)"
      ]
     },
     "execution_count": 7,
     "metadata": {},
     "output_type": "execute_result"
    }
   ],
   "source": [
    "result_2 = D_1*x_1*(2*x_2 + 1) - D_2*(2*x_1 + 1)*x_2 + (2*x_1 + 1)*(2*x_2 + 1)*z_2 - 2*D_1*(x_1 - x_2)\n",
    "result_2"
   ]
  },
  {
   "cell_type": "code",
   "execution_count": 8,
   "metadata": {},
   "outputs": [
    {
     "data": {
      "text/plain": [
       "-D_1*x_1 + (2*(D_1 - D_2)*x_1 + 2*D_1 - D_2)*x_2 + (2*(2*x_1 + 1)*x_2 + 2*x_1 + 1)*z_2"
      ]
     },
     "execution_count": 8,
     "metadata": {},
     "output_type": "execute_result"
    }
   ],
   "source": [
    "result_2.full_simplify()"
   ]
  },
  {
   "cell_type": "code",
   "execution_count": 9,
   "metadata": {},
   "outputs": [
    {
     "data": {
      "text/plain": [
       "(2*D_1*x_1*(2*x_2 + 1) - 2*D_2*(2*x_1 + 1)*x_2 - 4*D_1*(x_1 - x_2) - 1)*D_3*(2*z_3 + 1) + (D_1*x_1*(2*x_2 + 1) - D_2*(2*x_1 + 1)*x_2 - 2*D_1*(x_1 - x_2))*x_3*(2*z_3 + 1) - 1/2*(2*D_1*x_1*(2*x_2 + 1) - 2*D_2*(2*x_1 + 1)*x_2 - 4*D_1*(x_1 - x_2) - 1)*((2*x_1 + 1)*(2*x_2 + 1) - 1)*z_3 - (D_1*x_1*(2*x_2 + 1) - D_2*(2*x_1 + 1)*x_2 - 2*D_1*(x_1 - x_2) + z_3)*((2*x_1 + 1)*(2*x_2 + 1) - 1)"
      ]
     },
     "execution_count": 9,
     "metadata": {},
     "output_type": "execute_result"
    }
   ],
   "source": [
    "result_3 = (2*D_1*x_1*(2*x_2 + 1) - 2*D_2*(2*x_1 + 1)*x_2 - 4*D_1*(x_1 - x_2) - 1)*D_3*(2*z_3 + 1) + (D_1*x_1*(2*x_2 + 1) - D_2*(2*x_1 + 1)*x_2 - 2*D_1*(x_1 - x_2))*x_3*(2*z_3 + 1) - 1/2*(2*D_1*x_1*(2*x_2 + 1) - 2*D_2*(2*x_1 + 1)*x_2 - 4*D_1*(x_1 - x_2) - 1)*((2*x_1 + 1)*(2*x_2 + 1) - 1)*z_3 - (D_1*x_1*(2*x_2 + 1) - D_2*(2*x_1 + 1)*x_2 - 2*D_1*(x_1 - x_2) + z_3)*((2*x_1 + 1)*(2*x_2 + 1) - 1)\n",
    "result_3"
   ]
  },
  {
   "cell_type": "code",
   "execution_count": 10,
   "metadata": {},
   "outputs": [
    {
     "data": {
      "text/plain": [
       "-2*D_1*D_3*x_1 + 2*D_1*x_1^2 - 2*(4*(D_1 - D_2)*x_1^2 + 2*(3*D_1 - 2*D_2)*x_1 + 2*D_1 - D_2)*x_2^2 + 2*(2*D_2*x_1^2 + (2*D_1 - D_2)*D_3 + (2*(D_1 - D_2)*D_3 - D_1 + D_2)*x_1)*x_2 - (D_1*x_1 - (2*(D_1 - D_2)*x_1 + 2*D_1 - D_2)*x_2)*x_3 + (2*D_1*x_1^2 - 2*(4*(D_1 - D_2)*x_1^2 + 2*(3*D_1 - 2*D_2)*x_1 + 2*D_1 - D_2)*x_2^2 - (4*D_1*D_3 + 1)*x_1 + (4*D_2*x_1^2 + 4*(2*D_1 - D_2)*D_3 + 2*(4*(D_1 - D_2)*D_3 - D_1 + D_2 - 1)*x_1 - 1)*x_2 - 2*(D_1*x_1 - (2*(D_1 - D_2)*x_1 + 2*D_1 - D_2)*x_2)*x_3 - 2*D_3)*z_3 - D_3"
      ]
     },
     "execution_count": 10,
     "metadata": {},
     "output_type": "execute_result"
    }
   ],
   "source": [
    "result_3.full_simplify()"
   ]
  }
 ],
 "metadata": {
  "kernelspec": {
   "display_name": "SageMath 8.7",
   "language": "",
   "name": "sagemath"
  },
  "language_info": {
   "codemirror_mode": {
    "name": "ipython",
    "version": 2
   },
   "file_extension": ".py",
   "mimetype": "text/x-python",
   "name": "python",
   "nbconvert_exporter": "python",
   "pygments_lexer": "ipython2",
   "version": "2.7.13"
  }
 },
 "nbformat": 4,
 "nbformat_minor": 2
}
